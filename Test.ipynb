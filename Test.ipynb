{
 "cells": [
  {
   "cell_type": "code",
   "execution_count": null,
   "metadata": {},
   "outputs": [],
   "source": [
    "import pandas as pd\n",
    "tables=pd.read_html(\"/home/local/Downloads/FDIC_ Failed Bank List.html\")\n",
    "failbank=tables[0]\n",
    "close_time=pd.to_datetime(failbank[\"Closing DateClosing\"])\n",
    "#close_time.dt.year.value_counts()\n",
    "\n",
    "\n",
    "#use panda read_xml\n",
    "xml=pd.read_xml(path)\n",
    "\n",
    "#use lxml lib to read xml\n",
    "from lxml import objectify\n",
    "path=\"/home/local/Downloads/222.xml\"\n",
    "with open(path) as f:\n",
    "    parsed=objectify.parse(f)\n",
    "root=parsed.getroot()\n",
    "root.WipMoveTransaction.getchildren()[0].tag\n",
    "root.WipMoveTransaction.getchildren()[0].pyval"
   ]
  }
 ],
 "metadata": {
  "language_info": {
   "name": "python"
  }
 },
 "nbformat": 4,
 "nbformat_minor": 2
}
