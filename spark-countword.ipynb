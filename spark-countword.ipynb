{
 "cells": [
  {
   "cell_type": "code",
   "execution_count": null,
   "metadata": {},
   "outputs": [],
   "source": [
    "from pyspark import SparkConf,SparkContext\n",
    "import sys\n",
    "if __name__==\"__main__\":\n",
    "    if len(sys.argv)!=3:\n",
    "        print(\"Usage:wordcount <input> <output>\",file=sys.stderr)\n",
    "        sys.exit(-1)\n",
    "    conf=SparkConf()\n",
    "    sc=SparkContext(conf=conf)\n",
    "\n",
    "    def printResult():\n",
    "        counts=sc.textFile(sys.argv[1]).flatMap(lambda line:line.split()).map(lambda x:(x,1)).reduceByKey(lambda a,b:a+b)\n",
    "        output=counts.collect()\n",
    "        for (word,count) in output:\n",
    "            print(f\"{word}:{count}\")\n",
    "    def saveFile():\n",
    "        sc.textFile(sys.argv[1]).flatMap(lambda line:line.split()).map(lambda x:(x,1)).reduceByKey(lambda a,b:a+b).saveAsTextFile(sys.argv[2])\n",
    "        saveFile()\n",
    "        sc.stop()\n"
   ]
  }
 ],
 "metadata": {
  "kernelspec": {
   "display_name": "Python 3",
   "language": "python",
   "name": "python3"
  },
  "language_info": {
   "name": "python",
   "version": "3.10.5"
  }
 },
 "nbformat": 4,
 "nbformat_minor": 2
}
